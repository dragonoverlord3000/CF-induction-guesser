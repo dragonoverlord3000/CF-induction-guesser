{
 "cells": [
  {
   "cell_type": "markdown",
   "metadata": {},
   "source": [
    "# Notes\n",
    "Maybe I should add the condition $c_0 + d_1 = a_0$ to the equations - this might make it easier to weed out non-possible solutions."
   ]
  },
  {
   "cell_type": "code",
   "execution_count": 3,
   "metadata": {},
   "outputs": [],
   "source": [
    "# Imports\n",
    "import sympy as sp\n",
    "import numpy as np\n",
    "\n",
    "import matplotlib.pyplot as plt\n",
    "import itertools\n",
    "import time\n",
    "import os"
   ]
  },
  {
   "cell_type": "code",
   "execution_count": 4,
   "metadata": {},
   "outputs": [
    {
     "data": {
      "text/latex": [
       "$\\displaystyle n$"
      ],
      "text/plain": [
       "n"
      ]
     },
     "execution_count": 4,
     "metadata": {},
     "output_type": "execute_result"
    }
   ],
   "source": [
    "n = sp.Symbol(\"n\")\n",
    "n"
   ]
  },
  {
   "cell_type": "code",
   "execution_count": 5,
   "metadata": {},
   "outputs": [
    {
     "data": {
      "text/latex": [
       "$\\displaystyle t$"
      ],
      "text/plain": [
       "t"
      ]
     },
     "execution_count": 5,
     "metadata": {},
     "output_type": "execute_result"
    }
   ],
   "source": [
    "t = sp.Symbol(\"t\")\n",
    "t"
   ]
  },
  {
   "cell_type": "code",
   "execution_count": 6,
   "metadata": {},
   "outputs": [],
   "source": [
    "r = sp.Rational"
   ]
  },
  {
   "cell_type": "markdown",
   "metadata": {},
   "source": [
    "# Helper functions"
   ]
  },
  {
   "cell_type": "code",
   "execution_count": 7,
   "metadata": {},
   "outputs": [],
   "source": [
    "def create_poly_from_coeffs(coeffs, var):\n",
    "    poly = coeffs[0]\n",
    "    for i, coeff in enumerate(coeffs[1:]):\n",
    "        poly += coeff * var**(i+1)\n",
    "    return sp.expand(poly)"
   ]
  },
  {
   "cell_type": "code",
   "execution_count": 8,
   "metadata": {},
   "outputs": [
    {
     "data": {
      "text/latex": [
       "$\\displaystyle 3 n^{2} + 2 n + 1$"
      ],
      "text/plain": [
       "3*n**2 + 2*n + 1"
      ]
     },
     "execution_count": 8,
     "metadata": {},
     "output_type": "execute_result"
    }
   ],
   "source": [
    "create_poly_from_coeffs([1,2,3],n)"
   ]
  },
  {
   "cell_type": "code",
   "execution_count": 9,
   "metadata": {},
   "outputs": [],
   "source": [
    "def create_poly_from_roots(roots, var):\n",
    "    poly = 1\n",
    "    for root in roots:\n",
    "        poly *= (n - root)\n",
    "    return poly"
   ]
  },
  {
   "cell_type": "code",
   "execution_count": 10,
   "metadata": {},
   "outputs": [
    {
     "data": {
      "text/latex": [
       "$\\displaystyle \\left(n - 3\\right) \\left(n - 2\\right) \\left(n - 1\\right)$"
      ],
      "text/plain": [
       "(n - 3)*(n - 2)*(n - 1)"
      ]
     },
     "execution_count": 10,
     "metadata": {},
     "output_type": "execute_result"
    }
   ],
   "source": [
    "create_poly_from_roots([1,2,3],n)"
   ]
  },
  {
   "cell_type": "code",
   "execution_count": 11,
   "metadata": {},
   "outputs": [],
   "source": [
    "def create_poly_from_quad_factors(coeffs, var):\n",
    "    poly = 1; coeffs = coeffs[::-1]\n",
    "    start_idx = 0\n",
    "    if len(coeffs) % 3 == 1:\n",
    "        poly *= (var - (coeffs[0]))\n",
    "        start_idx = 1\n",
    "    if len(coeffs) % 3 == 2:\n",
    "        poly *= (var - (coeffs[0])) * (var - coeffs[1])\n",
    "        start_idx = 2\n",
    "        \n",
    "    for i in range(start_idx, len(coeffs), 3):\n",
    "        poly *= coeffs[i] * var**2 + coeffs[i+1] * var + coeffs[i+2]\n",
    "        \n",
    "    return poly"
   ]
  },
  {
   "cell_type": "code",
   "execution_count": 12,
   "metadata": {},
   "outputs": [
    {
     "data": {
      "text/latex": [
       "$\\displaystyle \\left(3 n^{2} + 2 n + 1\\right) \\left(4 n^{2} + 2 n + 1\\right)$"
      ],
      "text/plain": [
       "(3*n**2 + 2*n + 1)*(4*n**2 + 2*n + 1)"
      ]
     },
     "execution_count": 12,
     "metadata": {},
     "output_type": "execute_result"
    }
   ],
   "source": [
    "create_poly_from_quad_factors([1,2,3,1,2,4],n)"
   ]
  },
  {
   "cell_type": "code",
   "execution_count": 1,
   "metadata": {},
   "outputs": [],
   "source": [
    "def calc_frac(a,b,k=0,num_iter=10):\n",
    "    return a(k) + b(k+1)/calc_frac(a,b,k+1,num_iter-1) if num_iter else a(k)"
   ]
  },
  {
   "cell_type": "code",
   "execution_count": 2,
   "metadata": {},
   "outputs": [
    {
     "data": {
      "text/plain": [
       "1.618033988749895"
      ]
     },
     "execution_count": 2,
     "metadata": {},
     "output_type": "execute_result"
    }
   ],
   "source": [
    "a = lambda k: 1\n",
    "b = lambda k: 1\n",
    "calc_frac(a,b,0,1_000) # 6.180339887 4989484820 4586834365 6381177203 0917980576 2862135448 6227052604 6281890244"
   ]
  },
  {
   "cell_type": "markdown",
   "metadata": {},
   "source": [
    "# dn/cn finder\n",
    "We have:\n",
    "\\begin{align*}\n",
    " &c_n + d_{n+1} = s_na_n (\\heartsuit) \\\\ \n",
    " &c_nd_n = s_ns_{n-1}b_n (\\clubsuit)\n",
    "\\end{align*}\n",
    "From $(\\heartsuit)$ we can derive that it's most likely that $\\deg(d_n) = \\deg(c_n) = \\deg(s_n) + \\deg(a_n)$. Thus we must have, from $(\\clubsuit)$ that $2(\\deg(s_n) + \\deg(a_n)) = 2\\deg(s_n) + \\deg(b_n)$ i.e. $2\\deg(a_n) = \\deg(b_n)$."
   ]
  },
  {
   "cell_type": "code",
   "execution_count": 37,
   "metadata": {},
   "outputs": [],
   "source": [
    "# def dncn_finder(a_coeffs, b_coeffs, deg_s=0, ret_first=True): \n",
    "#     # Polynomial degrees\n",
    "#     deg_a = len(a_coeffs) - 1\n",
    "#     deg_b = len(b_coeffs) - 1\n",
    "#     deg_c = deg_d = deg_s + deg_a\n",
    "    \n",
    "#     # Polynomial coefficients\n",
    "#     a_coeffs = a_coeffs[::-1]\n",
    "#     b_coeffs = b_coeffs[::-1]\n",
    "#     c_coeffs = [sp.Symbol(f\"gamma_{k}\") for k in range(0, deg_c + 1)]\n",
    "#     d_coeffs = [sp.Symbol(f\"delta_{k}\") for k in range(0, deg_d + 1)]\n",
    "#     s_coeffs = [sp.Symbol(f\"sigma_{k}\") for k in range(0, deg_s + 1)]  \n",
    "    \n",
    "#     # Define polynomials\n",
    "#     an = create_poly_from_coeffs(a_coeffs, var=n)\n",
    "#     bn = create_poly_from_coeffs(b_coeffs, var=n)\n",
    "#     sn = create_poly_from_coeffs(s_coeffs, var=n)\n",
    "# #     cn = create_poly_from_coeffs(c_coeffs, var=n)\n",
    "# #     dn = create_poly_from_coeffs(d_coeffs, var=n)\n",
    "    \n",
    "#     sn_minus_1 = sp.expand(sn.subs({n:n-1}))\n",
    "# #     dn_plus_1 = sp.expand(dn.subs({n:n+1}))\n",
    "    \n",
    "#     # Setup equations and solve - note, the number of variables = deg(d) + deg(c) + deg(s)\n",
    "#     num_vars = deg_d + deg_c + deg_s # note that the parity of num_vars is decided by the parity of deg_s\n",
    "#     eqs = []\n",
    "    \n",
    "#     heart = sp.Eq(cn + dn_plus_1, sn * an)\n",
    "#     clubs = sp.Eq(cn*dn, -bn*sn*sn_minus_1)\n",
    "#     for i in range(round(num_vars/2)):\n",
    "#         n0 = i - round(num_vars/2)\n",
    "#         eqs.append(heart.subs({n:n0}))\n",
    "#         eqs.append(clubs.subs({n:n0}))\n",
    "        \n",
    "#     sol = sp.solve(eqs)\n",
    "#     return sol"
   ]
  },
  {
   "cell_type": "code",
   "execution_count": 39,
   "metadata": {},
   "outputs": [],
   "source": [
    "dncn_finder([3,7,3], [-2,-1,6,0,0], deg_s=2)"
   ]
  },
  {
   "cell_type": "markdown",
   "metadata": {},
   "source": [
    "# With combinatorics\n",
    "Only shown to work for for deg <= 2, but the speed is insane!"
   ]
  },
  {
   "cell_type": "code",
   "execution_count": 25,
   "metadata": {},
   "outputs": [],
   "source": [
    "def dncn_finder_coeffs(a_coeffs, b_coeffs, deg_s=0, ret_first=True): \n",
    "    # Polynomial degrees\n",
    "    deg_a = len(a_coeffs) - 1\n",
    "    deg_b = len(b_coeffs) - 1\n",
    "    deg_c = deg_d = deg_s + deg_a\n",
    "    \n",
    "    # Polynomial coefficients\n",
    "    a_coeffs = a_coeffs[::-1]\n",
    "    b_coeffs = b_coeffs[::-1]\n",
    "    s_coeffs = [sp.Symbol(f\"sigma_{k}\") for k in range(1, deg_s + 1)]  + [1]\n",
    "    \n",
    "    # Define polynomials\n",
    "    an = create_poly_from_coeffs(a_coeffs, var=n)\n",
    "    bn = create_poly_from_coeffs(b_coeffs, var=n)\n",
    "    sn = create_poly_from_coeffs(s_coeffs, var=n)\n",
    "        \n",
    "    sn_minus_1 = sp.expand(sn.subs({n:n-1}))\n",
    "    \n",
    "    leading_coeff, factors_rhs = sp.factor_list(-sn*sn_minus_1*bn)    \n",
    "    factors = []\n",
    "    \n",
    "    for pr in factors_rhs:\n",
    "        for i in range(pr[1]):\n",
    "            factors.append(pr[0])\n",
    "    possible_d_roots = list(itertools.chain(*list([itertools.combinations(factors, i) for i in range(int(deg_d/2),deg_d + 1)])))\n",
    "    possible_d_roots = [l for l in possible_d_roots if sum([sp.degree(p, n) for p in l]) == deg_d]\n",
    "    possible_c_roots = []\n",
    "    for d_roots in possible_d_roots:\n",
    "        l = factors.copy()\n",
    "        for d_root in d_roots:\n",
    "            l.remove(d_root)\n",
    "        possible_c_roots.append(l)\n",
    "    \n",
    "    sols = []\n",
    "    \n",
    "    lead_d = sp.Symbol(\"lambda\")\n",
    "    start_time = time.time()\n",
    "    for i, (c_roots,d_roots) in enumerate(zip(possible_c_roots, possible_d_roots)):\n",
    "        print(f\"[{i+1}/{len(possible_c_roots)}] --- Time: {time.time() - start_time} s\")\n",
    "        c_poly = 1; d_poly = 1\n",
    "        for c_root,d_root in zip(c_roots, d_roots):\n",
    "            c_poly *= c_root\n",
    "            d_poly *= d_root\n",
    "        \n",
    "        lhs_coeffs = sp.Poly((leading_coeff/lead_d) * c_poly + lead_d * d_poly.subs({n:n+1}), n).coeffs()\n",
    "        rhs_coeffs = sp.Poly(sp.expand(sn * an), n).coeffs()\n",
    "        \n",
    "        eqs = [sp.Eq(lhs, rhs, evaluate=False) for lhs, rhs in zip(lhs_coeffs, rhs_coeffs)]\n",
    "        sol = sp.solve(eqs)\n",
    "        if sol:\n",
    "            print(f\"Solution found at [{i+1}]\")\n",
    "            sols.append({\"sol\": sol, \"lead_d\": lead_d, \"lead\": leading_coeff, \n",
    "                         \"cn\": sp.factor(c_poly), \"dn\": leading_coeff * sp.factor(d_poly),\n",
    "                         \"sn\": sp.factor(sn)})\n",
    "            if ret_first:\n",
    "                break \n",
    "    \n",
    "    return sols"
   ]
  },
  {
   "cell_type": "code",
   "execution_count": 26,
   "metadata": {},
   "outputs": [
    {
     "name": "stdout",
     "output_type": "stream",
     "text": [
      "[1/6] --- Time: 0.0 s\n",
      "[2/6] --- Time: 0.13364005088806152 s\n",
      "Solution found at [2]\n"
     ]
    },
    {
     "data": {
      "text/plain": [
       "[{'sol': [{lambda: 2}],\n",
       "  'lead_d': lambda,\n",
       "  'lead': 2,\n",
       "  'cn': n*(n + 1),\n",
       "  'dn': 2*n*(n + 1),\n",
       "  'sn': 1}]"
      ]
     },
     "execution_count": 26,
     "metadata": {},
     "output_type": "execute_result"
    }
   ],
   "source": [
    "dncn_finder_coeffs([3,7,4], [-2, -4, -2, 0, 0])"
   ]
  },
  {
   "cell_type": "code",
   "execution_count": null,
   "metadata": {},
   "outputs": [],
   "source": []
  },
  {
   "cell_type": "code",
   "execution_count": 208,
   "metadata": {
    "scrolled": true
   },
   "outputs": [
    {
     "name": "stdout",
     "output_type": "stream",
     "text": [
      "[1/14] --- Time: 0.0 s\n",
      "[2/14] --- Time: 0.0576169490814209 s\n",
      "[3/14] --- Time: 0.11047577857971191 s\n",
      "Solution found at [3]\n",
      "[4/14] --- Time: 0.17609047889709473 s\n",
      "[5/14] --- Time: 0.25278711318969727 s\n",
      "[6/14] --- Time: 0.3309049606323242 s\n",
      "[7/14] --- Time: 0.37485623359680176 s\n",
      "[8/14] --- Time: 0.420665979385376 s\n",
      "[9/14] --- Time: 0.49393153190612793 s\n",
      "[10/14] --- Time: 0.579204797744751 s\n",
      "[11/14] --- Time: 0.640150785446167 s\n",
      "[12/14] --- Time: 0.7108070850372314 s\n",
      "[13/14] --- Time: 0.7770137786865234 s\n",
      "[14/14] --- Time: 0.8418388366699219 s\n"
     ]
    },
    {
     "data": {
      "text/plain": [
       "[{'sol': [{lambda: 1, sigma_1: -4, sigma_2: 7}],\n",
       "  'lead_d': lambda,\n",
       "  'lead': 1,\n",
       "  'cn': n**2*(n**2 + n*sigma_2 - 2*n + sigma_1 - sigma_2 + 1),\n",
       "  'dn': (n + 2)*(2*n - 3)*(n**2 + n*sigma_2 + sigma_1),\n",
       "  'sn': n**2 + n*sigma_2 + sigma_1}]"
      ]
     },
     "execution_count": 208,
     "metadata": {},
     "output_type": "execute_result"
    }
   ],
   "source": [
    "dncn_finder_coeffs([3,7,3], [-2,-1,6,0,0], deg_s=2, ret_first=False)"
   ]
  },
  {
   "cell_type": "code",
   "execution_count": 209,
   "metadata": {},
   "outputs": [
    {
     "name": "stdout",
     "output_type": "stream",
     "text": [
      "[1/14] --- Time: 0.0 s\n",
      "[2/14] --- Time: 0.08656978607177734 s\n",
      "[3/14] --- Time: 0.1873011589050293 s\n",
      "Solution found at [3]\n"
     ]
    },
    {
     "data": {
      "text/plain": [
       "[{'sol': [{lambda: 1, sigma_1: -2, sigma_2: 3}],\n",
       "  'lead_d': lambda,\n",
       "  'lead': 1,\n",
       "  'cn': n**2*(n**2 + n*sigma_2 - 2*n + sigma_1 - sigma_2 + 1),\n",
       "  'dn': n*(2*n - 3)*(n**2 + n*sigma_2 + sigma_1),\n",
       "  'sn': n**2 + n*sigma_2 + sigma_1}]"
      ]
     },
     "execution_count": 209,
     "metadata": {},
     "output_type": "execute_result"
    }
   ],
   "source": [
    "dncn_finder_coeffs([3,3,1], [-2,3,0,0,0], deg_s=2)"
   ]
  },
  {
   "cell_type": "code",
   "execution_count": 210,
   "metadata": {},
   "outputs": [
    {
     "data": {
      "text/plain": [
       "[]"
      ]
     },
     "execution_count": 210,
     "metadata": {},
     "output_type": "execute_result"
    }
   ],
   "source": [
    "dncn_finder_coeffs([6,9,5,1], [-1, 0, 0, 0, 0, 0, 0], deg_s=8)"
   ]
  },
  {
   "cell_type": "code",
   "execution_count": 182,
   "metadata": {
    "scrolled": true
   },
   "outputs": [
    {
     "data": {
      "text/latex": [
       "$\\displaystyle 6 n^{3} + 9 n^{2} + 5 n + 1$"
      ],
      "text/plain": [
       "6*n**3 + 9*n**2 + 5*n + 1"
      ]
     },
     "execution_count": 182,
     "metadata": {},
     "output_type": "execute_result"
    }
   ],
   "source": [
    "sp.expand((2*n + 1)*(3*n*(n+1) + 1))"
   ]
  },
  {
   "cell_type": "code",
   "execution_count": 211,
   "metadata": {
    "scrolled": true
   },
   "outputs": [
    {
     "name": "stdout",
     "output_type": "stream",
     "text": [
      "[1/40] --- Time: 0.0 s\n",
      "[2/40] --- Time: 0.15827465057373047 s\n",
      "[3/40] --- Time: 0.275928258895874 s\n",
      "[4/40] --- Time: 0.33644723892211914 s\n",
      "[5/40] --- Time: 0.40514612197875977 s\n",
      "[6/40] --- Time: 0.46692919731140137 s\n",
      "[7/40] --- Time: 0.5367431640625 s\n",
      "[8/40] --- Time: 0.6035802364349365 s\n",
      "[9/40] --- Time: 0.6865890026092529 s\n",
      "[10/40] --- Time: 0.7546737194061279 s\n",
      "[11/40] --- Time: 0.8394465446472168 s\n",
      "[12/40] --- Time: 0.9066808223724365 s\n",
      "[13/40] --- Time: 0.9884600639343262 s\n",
      "[14/40] --- Time: 1.0505118370056152 s\n",
      "[15/40] --- Time: 1.1342885494232178 s\n",
      "[16/40] --- Time: 1.2011404037475586 s\n",
      "[17/40] --- Time: 1.2779028415679932 s\n",
      "[18/40] --- Time: 1.3487138748168945 s\n",
      "[19/40] --- Time: 1.4195237159729004 s\n",
      "[20/40] --- Time: 1.4754071235656738 s\n",
      "[21/40] --- Time: 1.5531656742095947 s\n",
      "[22/40] --- Time: 1.6170296669006348 s\n",
      "[23/40] --- Time: 1.6938221454620361 s\n",
      "[24/40] --- Time: 1.7476825714111328 s\n",
      "[25/40] --- Time: 1.811474084854126 s\n",
      "[26/40] --- Time: 1.8822851181030273 s\n",
      "[27/40] --- Time: 1.957120418548584 s\n",
      "[28/40] --- Time: 2.010946750640869 s\n",
      "[29/40] --- Time: 2.094717264175415 s\n",
      "[30/40] --- Time: 2.1615371704101562 s\n",
      "[31/40] --- Time: 2.237335443496704 s\n",
      "[32/40] --- Time: 2.3031582832336426 s\n",
      "[33/40] --- Time: 2.3939156532287598 s\n",
      "[34/40] --- Time: 2.462730884552002 s\n",
      "[35/40] --- Time: 2.568448781967163 s\n",
      "[36/40] --- Time: 2.662198066711426 s\n",
      "[37/40] --- Time: 2.7768914699554443 s\n",
      "[38/40] --- Time: 2.8606672286987305 s\n",
      "[39/40] --- Time: 2.9663844108581543 s\n",
      "[40/40] --- Time: 3.06911039352417 s\n"
     ]
    },
    {
     "data": {
      "text/plain": [
       "[]"
      ]
     },
     "execution_count": 211,
     "metadata": {},
     "output_type": "execute_result"
    }
   ],
   "source": [
    "dncn_finder_coeffs([10,15,9,2], [-16, 0, 0, 0, 0, 0, 0], deg_s=5)"
   ]
  },
  {
   "cell_type": "code",
   "execution_count": 192,
   "metadata": {},
   "outputs": [
    {
     "data": {
      "text/latex": [
       "$\\displaystyle 10 n^{3} + 15 n^{2} + 9 n + 2$"
      ],
      "text/plain": [
       "10*n**3 + 15*n**2 + 9*n + 2"
      ]
     },
     "execution_count": 192,
     "metadata": {},
     "output_type": "execute_result"
    }
   ],
   "source": [
    "sp.expand((2*n + 1)*(5*n*(n+1) + 2))"
   ]
  },
  {
   "cell_type": "markdown",
   "metadata": {},
   "source": [
    "# In terms of roots"
   ]
  },
  {
   "cell_type": "code",
   "execution_count": 13,
   "metadata": {},
   "outputs": [],
   "source": [
    "def dncn_finder_roots(a_coeffs, b_coeffs, deg_s=0, ret_first=True): \n",
    "    # Polynomial degrees\n",
    "    deg_a = len(a_coeffs) - 1\n",
    "    deg_b = len(b_coeffs) - 1\n",
    "    deg_c = deg_d = deg_s + deg_a\n",
    "    \n",
    "    # Polynomial coefficients\n",
    "    a_coeffs = a_coeffs[::-1]\n",
    "    b_coeffs = b_coeffs[::-1]\n",
    "    s_roots = [sp.Symbol(f\"sigma_{k}\") for k in range(1, deg_s + 1)]\n",
    "    s_lead = 1\n",
    "    for sr in s_roots:\n",
    "        s_lead *= (1/sr)\n",
    "    \n",
    "    # Define polynomials\n",
    "    an = create_poly_from_coeffs(a_coeffs, var=n)\n",
    "    bn = create_poly_from_coeffs(b_coeffs, var=n)\n",
    "    sn = s_lead * create_poly_from_roots(s_roots, var=n)\n",
    "\n",
    "    sn_minus_1 = sn.subs({n:n-1})\n",
    "    \n",
    "    leading_coeff, factors_rhs = sp.factor_list(sp.Poly(-sn*sn_minus_1*bn))    \n",
    "    factors = []\n",
    "    \n",
    "    for pr in factors_rhs:\n",
    "        for i in range(pr[1]):\n",
    "            factors.append(pr[0])\n",
    "    possible_d_roots = list(itertools.chain(*list([itertools.combinations(factors, i) for i in range(int(deg_d/2),deg_d + 1)])))\n",
    "    possible_d_roots = [l for l in possible_d_roots if sum([sp.degree(p, n) for p in l]) == deg_d]\n",
    "    possible_c_roots = []\n",
    "    for d_roots in possible_d_roots:\n",
    "        l = factors.copy()\n",
    "        for d_root in d_roots:\n",
    "            l.remove(d_root)\n",
    "        possible_c_roots.append(l)\n",
    "    \n",
    "    sols = []\n",
    "    \n",
    "    lead_d = sp.Symbol(\"lambda\")\n",
    "    start_time = time.time()\n",
    "    for i, (c_roots,d_roots) in enumerate(zip(possible_c_roots, possible_d_roots)):\n",
    "        print(f\"[{i+1}/{len(possible_c_roots)}] --- Time since start: {time.time() - start_time} s --- Estimated time to finish: {time.time() - (time.time() - start_time) * len(possible_c_roots)/(i+1)}\")\n",
    "        c_poly = 1; d_poly = 1\n",
    "        for c_root,d_root in zip(c_roots, d_roots):\n",
    "            c_poly *= c_root\n",
    "            d_poly *= d_root\n",
    "        \n",
    "        lhs_coeffs = sp.Poly((leading_coeff/lead_d) * c_poly + lead_d * d_poly.subs({n:n+1}), n).coeffs()\n",
    "        rhs_coeffs = sp.Poly(sp.expand(sn * an), n).coeffs()\n",
    "        \n",
    "        eqs = [sp.Eq(lhs, rhs, evaluate=False) for lhs, rhs in zip(lhs_coeffs, rhs_coeffs)]\n",
    "        sol = sp.solve(eqs)\n",
    "        if sol:\n",
    "            print(f\"Solution found at [{i+1}]\")\n",
    "            sols.append({\"sol\": sol, \"lead_d\": lead_d, \"lead\": leading_coeff, \n",
    "                         \"cn\": sp.factor(c_poly), \"dn\": sp.factor(d_poly),\n",
    "                         \"sn\": sp.factor(sn)})\n",
    "            if ret_first:\n",
    "                break \n",
    "    \n",
    "    return sols"
   ]
  },
  {
   "cell_type": "code",
   "execution_count": 21,
   "metadata": {},
   "outputs": [
    {
     "data": {
      "text/latex": [
       "$\\displaystyle - 2 n^{4} - 4 n^{3} - 2 n^{2}$"
      ],
      "text/plain": [
       "-2*n**4 - 4*n**3 - 2*n**2"
      ]
     },
     "execution_count": 21,
     "metadata": {},
     "output_type": "execute_result"
    }
   ],
   "source": [
    "sp.expand(-2*n**2 * (n + 1)**2)"
   ]
  },
  {
   "cell_type": "code",
   "execution_count": 276,
   "metadata": {
    "scrolled": true
   },
   "outputs": [
    {
     "name": "stdout",
     "output_type": "stream",
     "text": [
      "[1/70] --- Time since start: 0.0 s --- Estimated time to finish: 0.0\n",
      "[2/70] --- Time since start: 9.097695350646973 s --- Estimated time to finish: 318.41933727264404\n",
      "[3/70] --- Time since start: 13.30426836013794 s --- Estimated time to finish: 310.43292840321857\n",
      "[4/70] --- Time since start: 21.290303468704224 s --- Estimated time to finish: 372.5803107023239\n",
      "[5/70] --- Time since start: 22.216824054718018 s --- Estimated time to finish: 311.03553676605225\n",
      "[6/70] --- Time since start: 22.976791381835938 s --- Estimated time to finish: 268.06256612141925\n",
      "[7/70] --- Time since start: 23.3597674369812 s --- Estimated time to finish: 233.597674369812\n",
      "[8/70] --- Time since start: 23.657968521118164 s --- Estimated time to finish: 207.00722455978394\n",
      "[9/70] --- Time since start: 23.783632516860962 s --- Estimated time to finish: 184.98380846447415\n",
      "[10/70] --- Time since start: 23.912289142608643 s --- Estimated time to finish: 167.3860239982605\n",
      "[11/70] --- Time since start: 24.31820249557495 s --- Estimated time to finish: 154.75219769911334\n",
      "[12/70] --- Time since start: 24.550580739974976 s --- Estimated time to finish: 143.21172098318735\n",
      "[13/70] --- Time since start: 24.704169034957886 s --- Estimated time to finish: 133.02244864977322\n",
      "[14/70] --- Time since start: 25.134018659591675 s --- Estimated time to finish: 125.67009329795837\n",
      "[15/70] --- Time since start: 25.39831233024597 s --- Estimated time to finish: 118.52545754114787\n",
      "[16/70] --- Time since start: 25.61971950531006 s --- Estimated time to finish: 112.0862728357315\n",
      "[17/70] --- Time since start: 27.154289722442627 s --- Estimated time to finish: 111.81178121005787\n",
      "[18/70] --- Time since start: 33.78740930557251 s --- Estimated time to finish: 131.39548063278198\n",
      "[19/70] --- Time since start: 34.49750995635986 s --- Estimated time to finish: 127.09608931290477\n",
      "[20/70] --- Time since start: 35.17968463897705 s --- Estimated time to finish: 123.12889623641968\n",
      "Solution found at [20]\n"
     ]
    },
    {
     "data": {
      "text/plain": [
       "[{'sol': [{lambda: 1, sigma_1: -3/2 + sqrt(17)/2, sigma_2: -sqrt(17)/2 - 3/2},\n",
       "   {lambda: 1, sigma_1: -sqrt(17)/2 - 3/2, sigma_2: -3/2 + sqrt(17)/2}],\n",
       "  'lead_d': lambda,\n",
       "  'lead': 1,\n",
       "  'cn': Poly(n**4*(1/sigma_1)*(1/sigma_2) - 2*n**3*(1/sigma_1)*(1/sigma_2) - n**3*(1/sigma_1) - n**3*(1/sigma_2) + n**2*(1/sigma_1)*(1/sigma_2) + n**2*(1/sigma_1) + n**2*(1/sigma_2) + n**2, n, 1/sigma_1, 1/sigma_2, domain='ZZ'),\n",
       "  'dn': Poly(2*n**4*(1/sigma_1)*(1/sigma_2) - 3*n**3*(1/sigma_1)*(1/sigma_2) - 2*n**3*(1/sigma_1) - 2*n**3*(1/sigma_2) + 3*n**2*(1/sigma_1) + 3*n**2*(1/sigma_2) + 2*n**2 - 3*n, n, 1/sigma_1, 1/sigma_2, domain='ZZ'),\n",
       "  'sn': (n - sigma_1)*(n - sigma_2)/(sigma_1*sigma_2)}]"
      ]
     },
     "execution_count": 276,
     "metadata": {},
     "output_type": "execute_result"
    }
   ],
   "source": [
    "dncn_finder_roots([3,3,1], [-2,3,0,0,0], deg_s=2)"
   ]
  },
  {
   "cell_type": "code",
   "execution_count": 1,
   "metadata": {},
   "outputs": [],
   "source": [
    "# dncn_finder_roots([10,15,9,2], [-16, 0, 0, 0, 0, 0, 0], deg_s=3)"
   ]
  },
  {
   "cell_type": "code",
   "execution_count": 2,
   "metadata": {
    "scrolled": true
   },
   "outputs": [],
   "source": [
    "# dncn_finder_roots([7,7,1], [8,0,0,0,0], deg_s=3)"
   ]
  },
  {
   "cell_type": "markdown",
   "metadata": {},
   "source": [
    "# In terms of quadratic factors"
   ]
  },
  {
   "cell_type": "code",
   "execution_count": 14,
   "metadata": {},
   "outputs": [],
   "source": [
    "def dncn_finder_quads(a_coeffs, b_coeffs, deg_s=0, ret_first=True, start_idx=0): \n",
    "    # Polynomial degrees\n",
    "    deg_a = len(a_coeffs) - 1\n",
    "    deg_b = len(b_coeffs) - 1\n",
    "    deg_c = deg_d = deg_s + deg_a\n",
    "    \n",
    "    # Polynomial coefficients\n",
    "    a_coeffs = a_coeffs[::-1]\n",
    "    b_coeffs = b_coeffs[::-1]\n",
    "    s_coeffs = [sp.Symbol(f\"sigma_{k}\") for k in range(0, deg_s + 1)]\n",
    "    \n",
    "    # Define polynomials\n",
    "    an = create_poly_from_coeffs(a_coeffs, var=n)\n",
    "    bn = create_poly_from_coeffs(b_coeffs, var=n)\n",
    "    sn = create_poly_from_quad_factors(s_coeffs, var=n)\n",
    "\n",
    "    sn_minus_1 = sn.subs({n:n-1})\n",
    "    \n",
    "    leading_coeff, factors_rhs = sp.factor_list(sp.Poly(-sn*sn_minus_1*bn))    \n",
    "    factors = []\n",
    "    \n",
    "    for pr in factors_rhs:\n",
    "        for i in range(pr[1]):\n",
    "            factors.append(pr[0])\n",
    "    possible_d_roots = list(itertools.chain(*list([itertools.combinations(factors, i) for i in range(int(deg_d/2),deg_d + 1)])))\n",
    "    possible_d_roots = [l for l in possible_d_roots if sum([sp.degree(p, n) for p in l]) == deg_d]\n",
    "    possible_c_roots = []\n",
    "    for d_roots in possible_d_roots:\n",
    "        l = factors.copy()\n",
    "        for d_root in d_roots:\n",
    "            l.remove(d_root)\n",
    "        possible_c_roots.append(l)\n",
    "    \n",
    "    sols = []\n",
    "    \n",
    "    lead_d = sp.Symbol(\"lambda\")\n",
    "    start_time = time.time()\n",
    "    for i, (c_roots,d_roots) in enumerate(zip(possible_c_roots, possible_d_roots)):\n",
    "        if (i + 1) < start_idx:\n",
    "            continue\n",
    "        print(f\"[{i+1}/{len(possible_c_roots)}] --- Time since start: {time.time() - start_time} s --- Estimated time to finish: {(time.time() - start_time) * len(possible_c_roots)/(i+1)}\")\n",
    "        c_poly = 1; d_poly = 1\n",
    "        for c_root,d_root in zip(c_roots, d_roots):\n",
    "            c_poly *= c_root\n",
    "            d_poly *= d_root\n",
    "        \n",
    "        lhs_coeffs = sp.Poly((leading_coeff/lead_d) * c_poly + lead_d * d_poly.subs({n:n+1}), n).coeffs()\n",
    "        rhs_coeffs = sp.Poly(sp.expand(sn * an), n).coeffs()\n",
    "        \n",
    "        eq_sn = sp.Eq(sn.subs({n:0}), 1, evaluate=False)\n",
    "        eqs = [eq_sn] + [sp.Eq(lhs, rhs, evaluate=False) for lhs, rhs in zip(lhs_coeffs, rhs_coeffs)]\n",
    "        sol = sp.solve(eqs)\n",
    "        if sol:\n",
    "            print(f\"Solution found at [{i+1}]\")\n",
    "            sols.append({\"sol\": sol, \"lead_d\": lead_d, \"lead\": leading_coeff, \n",
    "                         \"cn\": sp.factor(c_poly), \"dn\": sp.factor(d_poly),\n",
    "                         \"sn\": sp.factor(sn)})\n",
    "            if ret_first:\n",
    "                break \n",
    "    \n",
    "    return sols"
   ]
  },
  {
   "cell_type": "code",
   "execution_count": 288,
   "metadata": {
    "scrolled": true
   },
   "outputs": [
    {
     "name": "stdout",
     "output_type": "stream",
     "text": [
      "[1/52] --- Time since start: 0.0 s --- Estimated time to finish: 0.0\n",
      "[2/52] --- Time since start: 0.24335169792175293 s --- Estimated time to finish: 6.327144145965576\n",
      "[3/52] --- Time since start: 0.4059140682220459 s --- Estimated time to finish: 7.035843849182129\n",
      "[4/52] --- Time since start: 0.5700178146362305 s --- Estimated time to finish: 7.410231590270996\n",
      "[5/52] --- Time since start: 0.7535269260406494 s --- Estimated time to finish: 7.8366800308227536\n",
      "[6/52] --- Time since start: 0.8373012542724609 s --- Estimated time to finish: 7.256610870361328\n",
      "[7/52] --- Time since start: 0.9011311531066895 s --- Estimated time to finish: 6.694117137363979\n",
      "[8/52] --- Time since start: 2.2933218479156494 s --- Estimated time to finish: 14.906592011451721\n",
      "[9/52] --- Time since start: 2.457882881164551 s --- Estimated time to finish: 14.20110109117296\n",
      "Solution found at [9]\n"
     ]
    },
    {
     "data": {
      "text/plain": [
       "[{'sol': [{lambda: 2, sigma_0: -2/3, sigma_1: 1, sigma_2: 1/3, sigma_3: 3/2}],\n",
       "  'lead_d': lambda,\n",
       "  'lead': 1,\n",
       "  'cn': Poly(2*n**5*sigma_2 + 2*n**4*sigma_1 - 7*n**4*sigma_2 + 2*n**3*sigma_0 - 5*n**3*sigma_1 + 8*n**3*sigma_2 - 3*n**2*sigma_0 + 3*n**2*sigma_1 - 3*n**2*sigma_2, n, sigma_0, sigma_1, sigma_2, sigma_3, domain='ZZ'),\n",
       "  'dn': Poly(n**5*sigma_2 + n**4*sigma_1 - 2*n**4*sigma_2*sigma_3 - n**4*sigma_2 + n**3*sigma_0 - 2*n**3*sigma_1*sigma_3 - n**3*sigma_1 + n**3*sigma_2*sigma_3**2 + n**3*sigma_2*sigma_3 - 2*n**2*sigma_0*sigma_3 - n**2*sigma_0 + n**2*sigma_1*sigma_3**2 + n**2*sigma_1*sigma_3 + n*sigma_0*sigma_3**2 + n*sigma_0*sigma_3, n, sigma_0, sigma_1, sigma_2, sigma_3, domain='ZZ'),\n",
       "  'sn': (n - sigma_3)*(n**2*sigma_2 + n*sigma_1 + sigma_0)}]"
      ]
     },
     "execution_count": 288,
     "metadata": {},
     "output_type": "execute_result"
    }
   ],
   "source": [
    "dncn_finder_quads([3,3,1], [-2,3,0,0,0], deg_s=3)"
   ]
  },
  {
   "cell_type": "code",
   "execution_count": null,
   "metadata": {
    "scrolled": false
   },
   "outputs": [
    {
     "name": "stdout",
     "output_type": "stream",
     "text": [
      "[19/196] --- Time since start: 0.0 s --- Estimated time to finish: 0.0\n",
      "[20/196] --- Time since start: 4346.40472984314 s --- Estimated time to finish: 42594.76635246277\n",
      "[21/196] --- Time since start: 8840.862074613571 s --- Estimated time to finish: 82514.71269639333\n",
      "[22/196] --- Time since start: 42136.60661029816 s --- Estimated time to finish: 375398.8588917472\n",
      "[23/196] --- Time since start: 46663.177047252655 s --- Estimated time to finish: 397651.4217939791\n",
      "[24/196] --- Time since start: 46728.37675142288 s --- Estimated time to finish: 381615.07680328685\n",
      "[25/196] --- Time since start: 46793.23678898811 s --- Estimated time to finish: 366858.9764256668\n",
      "[26/196] --- Time since start: 46857.59877753258 s --- Estimated time to finish: 353234.20616909175\n",
      "[27/196] --- Time since start: 46921.3722345829 s --- Estimated time to finish: 340614.40585104626\n",
      "[28/196] --- Time since start: 46986.06425023079 s --- Estimated time to finish: 328902.4497516155\n",
      "[29/196] --- Time since start: 47044.42150616646 s --- Estimated time to finish: 317955.4005244354\n"
     ]
    }
   ],
   "source": [
    "dncn_finder_quads([7,7,2], [8,0,0,0,0], deg_s=4, start_idx=29)"
   ]
  },
  {
   "cell_type": "code",
   "execution_count": null,
   "metadata": {},
   "outputs": [],
   "source": []
  },
  {
   "cell_type": "code",
   "execution_count": null,
   "metadata": {},
   "outputs": [],
   "source": []
  },
  {
   "cell_type": "code",
   "execution_count": null,
   "metadata": {},
   "outputs": [],
   "source": []
  },
  {
   "cell_type": "code",
   "execution_count": 302,
   "metadata": {
    "scrolled": true
   },
   "outputs": [
    {
     "name": "stdout",
     "output_type": "stream",
     "text": [
      "[1/52] --- Time since start: 0.0 s --- Estimated time to finish: 0.0\n",
      "[2/52] --- Time since start: 0.0987403392791748 s --- Estimated time to finish: 2.567248821258545\n",
      "[3/52] --- Time since start: 0.21941256523132324 s --- Estimated time to finish: 3.8031511306762695\n",
      "[4/52] --- Time since start: 0.31412816047668457 s --- Estimated time to finish: 4.083666086196899\n",
      "[5/52] --- Time since start: 0.4258272647857666 s --- Estimated time to finish: 4.428603553771973\n",
      "[6/52] --- Time since start: 0.513636589050293 s --- Estimated time to finish: 4.451517105102539\n",
      "[7/52] --- Time since start: 0.5913846492767334 s --- Estimated time to finish: 4.393143108912876\n",
      "[8/52] --- Time since start: 37.163434743881226 s --- Estimated time to finish: 241.56232583522797\n",
      "[9/52] --- Time since start: 41.3651921749115 s --- Estimated time to finish: 238.99888812171088\n",
      "[10/52] --- Time since start: 73.20500302314758 s --- Estimated time to finish: 380.66601572036745\n",
      "[11/52] --- Time since start: 78.2515001296997 s --- Estimated time to finish: 369.91618243130773\n",
      "[12/52] --- Time since start: 110.5999505519867 s --- Estimated time to finish: 479.2664523919423\n",
      "[13/52] --- Time since start: 114.02677989006042 s --- Estimated time to finish: 456.1071195602417\n",
      "[14/52] --- Time since start: 146.51585221290588 s --- Estimated time to finish: 544.2017367907932\n",
      "[15/52] --- Time since start: 151.13549304008484 s --- Estimated time to finish: 523.9363758722941\n",
      "[16/52] --- Time since start: 151.60124897956848 s --- Estimated time to finish: 492.70405918359756\n",
      "[17/52] --- Time since start: 151.90343761444092 s --- Estimated time to finish: 464.645809173584\n",
      "[18/52] --- Time since start: 152.48188996315002 s --- Estimated time to finish: 440.50323767132227\n",
      "[19/52] --- Time since start: 152.69432139396667 s --- Estimated time to finish: 417.900248025593\n",
      "[20/52] --- Time since start: 153.06832194328308 s --- Estimated time to finish: 397.977637052536\n",
      "[21/52] --- Time since start: 153.20096588134766 s --- Estimated time to finish: 379.35477265857514\n",
      "[22/52] --- Time since start: 153.63779735565186 s --- Estimated time to finish: 363.1438846588135\n",
      "[23/52] --- Time since start: 153.89111995697021 s --- Estimated time to finish: 347.92774946793264\n",
      "[24/52] --- Time since start: 154.22123670578003 s --- Estimated time to finish: 334.1460128625234\n",
      "[25/52] --- Time since start: 154.34989166259766 s --- Estimated time to finish: 321.04777465820314\n",
      "[26/52] --- Time since start: 154.5493609905243 s --- Estimated time to finish: 309.0987219810486\n",
      "[27/52] --- Time since start: 154.66607975959778 s --- Estimated time to finish: 297.87541287033645\n",
      "[28/52] --- Time since start: 170.29123950004578 s --- Estimated time to finish: 316.25515907151356\n",
      "[29/52] --- Time since start: 181.97298741340637 s --- Estimated time to finish: 326.296391224039\n",
      "[30/52] --- Time since start: 200.05759739875793 s --- Estimated time to finish: 346.76650215784707\n",
      "[31/52] --- Time since start: 214.55481028556824 s --- Estimated time to finish: 359.8983914467596\n",
      "[32/52] --- Time since start: 229.31132984161377 s --- Estimated time to finish: 372.6309109926224\n",
      "[33/52] --- Time since start: 241.50470495224 s --- Estimated time to finish: 380.5528684095903\n",
      "[34/52] --- Time since start: 257.5248429775238 s --- Estimated time to finish: 393.8615245538599\n",
      "[35/52] --- Time since start: 269.70927381515503 s --- Estimated time to finish: 400.71092109680177\n",
      "[36/52] --- Time since start: 284.07081294059753 s --- Estimated time to finish: 410.3245075808631\n",
      "[37/52] --- Time since start: 294.52986454963684 s --- Estimated time to finish: 413.93386369138153\n",
      "[38/52] --- Time since start: 308.1793134212494 s --- Estimated time to finish: 421.71906047118335\n",
      "[39/52] --- Time since start: 319.6363868713379 s --- Estimated time to finish: 426.1818491617839\n",
      "[40/52] --- Time since start: 324.60409569740295 s --- Estimated time to finish: 421.9853244066238\n",
      "[41/52] --- Time since start: 327.6519412994385 s --- Estimated time to finish: 415.5585596968488\n",
      "[42/52] --- Time since start: 334.559458732605 s --- Estimated time to finish: 414.21647271655854\n",
      "[43/52] --- Time since start: 335.951767206192 s --- Estimated time to finish: 406.26725336562754\n",
      "[44/52] --- Time since start: 339.8173909187317 s --- Estimated time to finish: 401.6023710857738\n",
      "[45/52] --- Time since start: 341.9985558986664 s --- Estimated time to finish: 395.19833126068113\n",
      "[46/52] --- Time since start: 347.56665897369385 s --- Estimated time to finish: 392.9014405789583\n",
      "[47/52] --- Time since start: 349.6560673713684 s --- Estimated time to finish: 386.8535213470459\n",
      "[48/52] --- Time since start: 363.95181918144226 s --- Estimated time to finish: 394.28113744656247\n",
      "[49/52] --- Time since start: 378.88087368011475 s --- Estimated time to finish: 402.07766186461157\n",
      "[50/52] --- Time since start: 390.75111389160156 s --- Estimated time to finish: 406.38115844726565\n",
      "[51/52] --- Time since start: 396.6214461326599 s --- Estimated time to finish: 404.3983372333003\n",
      "[52/52] --- Time since start: 396.9076430797577 s --- Estimated time to finish: 396.9076430797577\n"
     ]
    },
    {
     "data": {
      "text/plain": [
       "[]"
      ]
     },
     "execution_count": 302,
     "metadata": {},
     "output_type": "execute_result"
    }
   ],
   "source": [
    "# dncn_finder_quads([3,9,7], [-2, -3, 3, 7, 3], deg_s=3)"
   ]
  },
  {
   "cell_type": "code",
   "execution_count": 306,
   "metadata": {
    "scrolled": true
   },
   "outputs": [
    {
     "name": "stdout",
     "output_type": "stream",
     "text": [
      "[1/52] --- Time since start: 0.0 s --- Estimated time to finish: 0.0\n",
      "[2/52] --- Time since start: 0.21047329902648926 s --- Estimated time to finish: 5.472305774688721\n",
      "[3/52] --- Time since start: 0.3869667053222656 s --- Estimated time to finish: 6.7074228922526045\n",
      "[4/52] --- Time since start: 0.5196120738983154 s --- Estimated time to finish: 6.754956960678101\n",
      "[5/52] --- Time since start: 0.6851687431335449 s --- Estimated time to finish: 7.136126899719239\n",
      "[6/52] --- Time since start: 0.8128595352172852 s --- Estimated time to finish: 7.044782638549805\n",
      "[7/52] --- Time since start: 0.8866281509399414 s --- Estimated time to finish: 6.586380549839565\n",
      "[8/52] --- Time since start: 39.76245403289795 s --- Estimated time to finish: 258.45595121383667\n",
      "[9/52] --- Time since start: 43.89639401435852 s --- Estimated time to finish: 253.62360986073813\n",
      "[10/52] --- Time since start: 64.60302686691284 s --- Estimated time to finish: 335.93573970794677\n",
      "[11/52] --- Time since start: 67.98095393180847 s --- Estimated time to finish: 321.3645094958219\n",
      "[12/52] --- Time since start: 94.77027630805969 s --- Estimated time to finish: 410.67119733492535\n",
      "[13/52] --- Time since start: 98.3427186012268 s --- Estimated time to finish: 393.3708744049072\n",
      "[14/52] --- Time since start: 124.45784783363342 s --- Estimated time to finish: 462.2720062392099\n",
      "[15/52] --- Time since start: 127.73308110237122 s --- Estimated time to finish: 442.80801448822024\n",
      "[16/52] --- Time since start: 128.2666563987732 s --- Estimated time to finish: 416.8666332960129\n",
      "[17/52] --- Time since start: 128.5588743686676 s --- Estimated time to finish: 393.2389098335715\n",
      "[18/52] --- Time since start: 128.9199538230896 s --- Estimated time to finish: 372.43542215559216\n",
      "[19/52] --- Time since start: 129.11841416358948 s --- Estimated time to finish: 353.37671244771855\n",
      "[20/52] --- Time since start: 129.41558241844177 s --- Estimated time to finish: 336.4805142879486\n",
      "[21/52] --- Time since start: 129.51235485076904 s --- Estimated time to finish: 320.69725963047574\n",
      "[22/52] --- Time since start: 129.8195333480835 s --- Estimated time to finish: 306.8461697318337\n",
      "[23/52] --- Time since start: 130.0080428123474 s --- Estimated time to finish: 293.9312272279159\n",
      "[24/52] --- Time since start: 130.22740769386292 s --- Estimated time to finish: 282.159383336703\n",
      "[25/52] --- Time since start: 130.3221879005432 s --- Estimated time to finish: 271.0701508331299\n",
      "[26/52] --- Time since start: 130.76995635032654 s --- Estimated time to finish: 261.5399127006531\n",
      "[27/52] --- Time since start: 131.16190886497498 s --- Estimated time to finish: 252.60812077698884\n",
      "[28/52] --- Time since start: 142.53747296333313 s --- Estimated time to finish: 264.71244978904724\n",
      "[29/52] --- Time since start: 152.6524097919464 s --- Estimated time to finish: 273.7215623855591\n",
      "[30/52] --- Time since start: 168.80818223953247 s --- Estimated time to finish: 292.6008492151896\n",
      "[31/52] --- Time since start: 177.88489890098572 s --- Estimated time to finish: 298.38757235004056\n",
      "[32/52] --- Time since start: 192.59254789352417 s --- Estimated time to finish: 312.9628903269768\n",
      "[33/52] --- Time since start: 202.06719589233398 s --- Estimated time to finish: 318.4089147394354\n",
      "[34/52] --- Time since start: 212.1482231616974 s --- Estimated time to finish: 324.4619883649489\n",
      "[35/52] --- Time since start: 218.76152920722961 s --- Estimated time to finish: 325.017129107884\n",
      "[36/52] --- Time since start: 228.3039960861206 s --- Estimated time to finish: 329.7724387910631\n",
      "[37/52] --- Time since start: 238.82783937454224 s --- Estimated time to finish: 335.64993641827556\n",
      "[38/52] --- Time since start: 254.3183934688568 s --- Estimated time to finish: 348.01464369422513\n",
      "[39/52] --- Time since start: 262.6231744289398 s --- Estimated time to finish: 350.16423257191974\n",
      "[40/52] --- Time since start: 266.7471399307251 s --- Estimated time to finish: 346.7712819099426\n",
      "[41/52] --- Time since start: 268.5243835449219 s --- Estimated time to finish: 340.5675108374619\n",
      "[42/52] --- Time since start: 270.95393228530884 s --- Estimated time to finish: 335.46677330562045\n",
      "[43/52] --- Time since start: 272.755065202713 s --- Estimated time to finish: 329.84333466374596\n",
      "[44/52] --- Time since start: 277.1443567276001 s --- Estimated time to finish: 327.53423976898193\n",
      "[45/52] --- Time since start: 278.93852162361145 s --- Estimated time to finish: 322.3289583206177\n",
      "[46/52] --- Time since start: 283.0525453090668 s --- Estimated time to finish: 319.9724425232929\n",
      "[47/52] --- Time since start: 283.9621171951294 s --- Estimated time to finish: 314.1708530669517\n",
      "[48/52] --- Time since start: 294.7881133556366 s --- Estimated time to finish: 319.3537894686063\n",
      "[49/52] --- Time since start: 305.15836811065674 s --- Estimated time to finish: 323.84153350518676\n",
      "[50/52] --- Time since start: 319.12998604774475 s --- Estimated time to finish: 331.8951854896545\n",
      "[51/52] --- Time since start: 321.43282318115234 s --- Estimated time to finish: 327.7354275572534\n",
      "[52/52] --- Time since start: 321.6731822490692 s --- Estimated time to finish: 321.6731822490692\n"
     ]
    },
    {
     "data": {
      "text/plain": [
       "[]"
      ]
     },
     "execution_count": 306,
     "metadata": {},
     "output_type": "execute_result"
    }
   ],
   "source": [
    "dncn_finder_quads([3,7,3], [-2, -11, -19, -13, -3], deg_s=3)"
   ]
  },
  {
   "cell_type": "code",
   "execution_count": null,
   "metadata": {},
   "outputs": [],
   "source": []
  },
  {
   "cell_type": "code",
   "execution_count": null,
   "metadata": {},
   "outputs": [],
   "source": []
  },
  {
   "cell_type": "code",
   "execution_count": null,
   "metadata": {},
   "outputs": [],
   "source": []
  },
  {
   "cell_type": "code",
   "execution_count": null,
   "metadata": {},
   "outputs": [],
   "source": []
  },
  {
   "cell_type": "code",
   "execution_count": null,
   "metadata": {},
   "outputs": [],
   "source": []
  },
  {
   "cell_type": "code",
   "execution_count": null,
   "metadata": {},
   "outputs": [],
   "source": []
  }
 ],
 "metadata": {
  "kernelspec": {
   "display_name": "Python 3.8.1 64-bit",
   "language": "python",
   "name": "python38164bit70281e1018c347ba865b7358d0438737"
  },
  "language_info": {
   "codemirror_mode": {
    "name": "ipython",
    "version": 3
   },
   "file_extension": ".py",
   "mimetype": "text/x-python",
   "name": "python",
   "nbconvert_exporter": "python",
   "pygments_lexer": "ipython3",
   "version": "3.8.1"
  }
 },
 "nbformat": 4,
 "nbformat_minor": 4
}
