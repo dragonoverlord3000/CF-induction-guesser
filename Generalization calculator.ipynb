{
 "cells": [
  {
   "cell_type": "markdown",
   "metadata": {},
   "source": [
    "# Find closed form expressions for Apery-like sums"
   ]
  },
  {
   "cell_type": "code",
   "execution_count": 1,
   "metadata": {},
   "outputs": [],
   "source": [
    "# Imports\n",
    "import sympy as sp\n",
    "import numpy as np"
   ]
  },
  {
   "cell_type": "code",
   "execution_count": 2,
   "metadata": {},
   "outputs": [
    {
     "data": {
      "text/latex": [
       "$\\displaystyle n$"
      ],
      "text/plain": [
       "n"
      ]
     },
     "execution_count": 2,
     "metadata": {},
     "output_type": "execute_result"
    }
   ],
   "source": [
    "n = sp.Symbol(\"n\")\n",
    "n"
   ]
  },
  {
   "cell_type": "code",
   "execution_count": 3,
   "metadata": {},
   "outputs": [],
   "source": [
    "r = sp.Rational"
   ]
  },
  {
   "cell_type": "markdown",
   "metadata": {},
   "source": [
    "### Calculator for\n",
    "\\begin{equation}\n",
    "\\sum_{n=0}^\\infty \\frac{n!^2}{(2n)!}\\frac{(4x)^n}{n+m} \\;\\;\\;\\; \\heartsuit\n",
    "\\end{equation}\n",
    "The calculator is based on the relatively simple to prove reduction formula (series PDF transformation method > PFD > poly div > collect terms):\n",
    "\\begin{align}\n",
    "&\\textrm{Set: } f_{m} = \\sum_{n=0}^\\infty \\frac{n!^2}{(2n)!}\\frac{(4x)^n}{n + m + 1} \\\\\n",
    "&\\textrm{Then: } f_m = -\\left(\\frac{2m + 1}{2xm^2} + \\frac{1}{m}\\frac{\\arcsin \\sqrt{x}}{\\sqrt{x(1-x)}}\\right) + \\left(\\frac{1}{x} + \\frac{1}{2mx}\\right)f_{m-1}\n",
    "\\end{align}\n",
    "The above is a recursion of the form:\n",
    "\\begin{equation}\n",
    "f_m = b_m + c_mf_{m-1} \\;\\;\\; \\forall m \\in \\mathbb{N}\n",
    "\\end{equation}\n",
    "Which is easily solved by repeated application of the above recursion (and easily proven using induction):\n",
    "\\begin{equation}\n",
    "f_m = \\sum_{k=1}^m b_k \\prod_{j=k+1}^mc_j + f_0\\prod_{k=1}^mc_k\n",
    "\\end{equation}\n",
    "Giving a closed form expression for $\\heartsuit$, given that $f_0 = \\frac{2\\arcsin\\sqrt{x}}{\\sqrt{x(1 - x)}} - \\frac{\\arcsin^2(\\sqrt{x})}{x}$:\n",
    "\\begin{align}\n",
    "f_m = -\\sum_{k=1}^m \\left[ \\left( \\frac{2k + 1}{2xk^2} + \\frac{1}{k}\\frac{\\arcsin \\sqrt{x}}{\\sqrt{x(1-x)}} \\right) \\prod_{j=k+1}^m \\left(\\frac{1}{x} + \\frac{1}{2jx}\\right) \\right] + \\left(\\frac{2\\arcsin\\sqrt{x}}{\\sqrt{x(1 - x)}} - \\frac{\\arcsin^2(\\sqrt{x})}{x}\\right)\\prod_{k=1}^m \\left(\\frac{1}{x} + \\frac{1}{2kx}\\right)\n",
    "\\end{align}"
   ]
  },
  {
   "cell_type": "code",
   "execution_count": 4,
   "metadata": {},
   "outputs": [],
   "source": [
    "def series_1(x, m):\n",
    "    k,j = sp.symbols(\"k j\")\n",
    "    \n",
    "    # Correction term\n",
    "    m -= 1\n",
    "    \n",
    "    first_term = -sp.summation(((2*k + 1)/(2*x*k**2) + 1/k * sp.asin(sp.sqrt(x))/sp.sqrt(x*(1 - x))) * sp.product((r(1/x) + 1/(2*j*x)), (j,k+1,m)), (k,1,m))\n",
    "    second_term = (2 *sp.asin(sp.sqrt(x))/sp.sqrt(x*(1 - x)) - sp.asin(sp.sqrt(x))**2 / x) * sp.product((r(1/x) + 1/(2*k*x)), (k, 1, m))\n",
    "    \n",
    "    return first_term + second_term"
   ]
  },
  {
   "cell_type": "code",
   "execution_count": 5,
   "metadata": {},
   "outputs": [
    {
     "data": {
      "text/latex": [
       "$\\displaystyle \\pi - \\frac{\\pi^{2}}{8}$"
      ],
      "text/plain": [
       "pi - pi**2/8"
      ]
     },
     "execution_count": 5,
     "metadata": {},
     "output_type": "execute_result"
    }
   ],
   "source": [
    "# Right\n",
    "series_1(r(1/2), 1)"
   ]
  },
  {
   "cell_type": "code",
   "execution_count": 6,
   "metadata": {},
   "outputs": [
    {
     "data": {
      "text/latex": [
       "$\\displaystyle - \\frac{3 \\pi^{2}}{8} - 3 + \\frac{5 \\pi}{2}$"
      ],
      "text/plain": [
       "-3*pi**2/8 - 3 + 5*pi/2"
      ]
     },
     "execution_count": 6,
     "metadata": {},
     "output_type": "execute_result"
    }
   ],
   "source": [
    "# Right\n",
    "series_1(r(1/2), 2)"
   ]
  },
  {
   "cell_type": "code",
   "execution_count": 7,
   "metadata": {},
   "outputs": [
    {
     "data": {
      "text/latex": [
       "$\\displaystyle - \\frac{15 \\pi^{2}}{16} - \\frac{35}{4} + 6 \\pi$"
      ],
      "text/plain": [
       "-15*pi**2/16 - 35/4 + 6*pi"
      ]
     },
     "execution_count": 7,
     "metadata": {},
     "output_type": "execute_result"
    }
   ],
   "source": [
    "# Right\n",
    "sp.simplify(series_1(r(1/2), 3))"
   ]
  },
  {
   "cell_type": "code",
   "execution_count": 8,
   "metadata": {},
   "outputs": [
    {
     "data": {
      "text/latex": [
       "$\\displaystyle - \\frac{35 \\pi^{2}}{16} - \\frac{763}{36} + \\frac{83 \\pi}{6}$"
      ],
      "text/plain": [
       "-35*pi**2/16 - 763/36 + 83*pi/6"
      ]
     },
     "execution_count": 8,
     "metadata": {},
     "output_type": "execute_result"
    }
   ],
   "source": [
    "# Right\n",
    "sp.simplify(series_1(r(1/2), 4))"
   ]
  },
  {
   "cell_type": "markdown",
   "metadata": {},
   "source": [
    "### Calculator for\n",
    "\\begin{equation}\n",
    "\\sum_{n=0}^\\infty \\frac{n!^2}{(2n)!}\\frac{(4x)^n}{2n+2m+1} \\;\\;\\;\\; \\heartsuit\n",
    "\\end{equation}\n",
    "The calculator is based on the relatively simple to prove reduction formula (series PDF transformation method > PFD > poly div > collect terms):\n",
    "\\begin{align}\n",
    "&\\textrm{Set: } f_{m} = \\sum_{n=0}^\\infty \\frac{n!^2}{(2n)!}\\frac{(4x)^n}{2n + 2m + 1} \\\\\n",
    "&\\textrm{Then: } f_m = \\left(-\\frac{2m}{x(2m - 1)^2} - \\frac{1}{2m - 1}\\frac{\\arcsin\\sqrt{x}}{\\sqrt{x(1 - x)}}\\right) + \\frac{2m}{x(2m - 1)}f_{m-1}\n",
    "\\end{align}\n",
    "The above is a recursion of the form:\n",
    "\\begin{equation}\n",
    "f_m = b_m + c_mf_{m-1} \\;\\;\\; \\forall m \\in \\mathbb{N}\n",
    "\\end{equation}\n",
    "Which is easily solved by repeated application of the above recursion (and easily proven using induction):\n",
    "\\begin{equation}\n",
    "f_m = \\sum_{k=1}^m b_k \\prod_{j=k+1}^mc_j + f_0\\prod_{k=1}^mc_k\n",
    "\\end{equation}\n",
    "Giving a closed form expression for $\\heartsuit$, given that $f_0 = \\frac{\\arcsin\\sqrt{x}}{\\sqrt{x(1 - x)}}$:\n",
    "\\begin{equation}\n",
    "\\sum_{n=0}^\\infty \\frac{n!^2}{(2n)!}\\frac{(4x)^n}{2n+2m+1} = \\sum_{k=1}^m\\left[ \\left(-\\frac{2k}{x(2k - 1)^2} - \\frac{1}{2k - 1}\\frac{\\arcsin\\sqrt{x}}{\\sqrt{x(1 - x)}}\\right) \\prod_{j=k+1}^m \\frac{2j}{x(2j - 1)} \\right] + \\frac{\\arcsin\\sqrt{x}}{\\sqrt{x(1 - x)}}\\prod_{k=1}^m \\frac{2k}{x(2k - 1)}\n",
    "\\end{equation}"
   ]
  },
  {
   "cell_type": "code",
   "execution_count": 9,
   "metadata": {},
   "outputs": [],
   "source": [
    "# x, m, k, j = sp.symbols(\"x m k j\")"
   ]
  },
  {
   "cell_type": "code",
   "execution_count": 10,
   "metadata": {},
   "outputs": [],
   "source": [
    "def series_2(x, m):\n",
    "    k,j = sp.symbols(\"k j\")\n",
    "    \n",
    "    first_term = sp.summation((-2*k/(x*(2*k - 1)**2) - 1/(2*k - 1)*sp.asin(sp.sqrt(x))/sp.sqrt(x * (1 - x))) * sp.product(2 * j / (x * (2*j - 1)), (j,k+1,m)), (k,1,m))\n",
    "    second_term = sp.asin(sp.sqrt(x))/sp.sqrt(x*(1 - x)) * sp.product(2 * k / (x * (2*k - 1)), (k, 1, m))\n",
    "    \n",
    "    return first_term + second_term"
   ]
  },
  {
   "cell_type": "code",
   "execution_count": 11,
   "metadata": {},
   "outputs": [
    {
     "data": {
      "text/latex": [
       "$\\displaystyle - \\frac{238192}{3675} + \\frac{1451 \\pi}{70}$"
      ],
      "text/plain": [
       "-238192/3675 + 1451*pi/70"
      ]
     },
     "execution_count": 11,
     "metadata": {},
     "output_type": "execute_result"
    }
   ],
   "source": [
    "# Works !!\n",
    "series_2(r(1/2), 4)"
   ]
  },
  {
   "cell_type": "code",
   "execution_count": null,
   "metadata": {},
   "outputs": [],
   "source": []
  },
  {
   "cell_type": "markdown",
   "metadata": {},
   "source": [
    "### Calculator for\n",
    "\\begin{equation}\n",
    "\\sum_{n=0}^\\infty \\frac{n!^2}{(2n)!}\\frac{(4x)^n}{\\left(2n + 2m + 1\\right)^{2}} \\;\\;\\;\\; \\heartsuit\n",
    "\\end{equation}\n",
    "\n",
    "<!-- Use the links to calculate the integral:\n",
    "> https://oeis.org/A002011\n",
    "\n",
    "> https://en.wikipedia.org/wiki/Central_binomial_coefficient\n",
    "\n",
    "Also use the overleaf docu + notebook ???\n",
    "<br/>\n",
    "<br/>\n",
    "<br/> -->\n",
    "\n",
    "\n",
    "The calculator is based on the following identity (proved above)\n",
    "\\begin{equation}\n",
    "\\sum_{n=0}^\\infty \\frac{n!^2}{(2n)!}\\frac{(4x)^n}{2n+2m+1} = \\sum_{k=1}^m\\left[ \\left(-\\frac{2k}{x(2k - 1)^2} - \\frac{1}{2k - 1}\\frac{\\arcsin\\sqrt{x}}{\\sqrt{x(1 - x)}}\\right) \\prod_{j=k+1}^m \\frac{2j}{x(2j - 1)} \\right] + \\frac{\\arcsin\\sqrt{x}}{\\sqrt{x(1 - x)}}\\prod_{k=1}^m \\frac{2k}{x(2k - 1)}\n",
    "\\end{equation}\n",
    "First replace $x$ with $4y^{2}$ giving us:\n",
    "\\begin{equation}\n",
    "\\sum_{n=0}^\\infty \\frac{n!^2}{(2n)!}\\frac{(4y)^{2n}}{2n+2m+1} = \\sum_{k=1}^m\\left[ \\left(-\\frac{k}{2y^{2}(2k - 1)^2} - \\frac{1}{2k - 1}\\frac{\\arcsin(2y)}{2y\\sqrt{(1 - 4y^{2})}}\\right) \\prod_{j=k+1}^m \\frac{2j}{4y^{2}(2j - 1)} \\right] + \\frac{\\arcsin(2y)}{2y\\sqrt{1 - 4y^{2}}}\\prod_{k=1}^m \\frac{2k}{4y^{2}(2k - 1)}\n",
    "\\end{equation}\n",
    "Multiply both sides of the identity above by $(4y)^{2m}$, then:\n",
    "\\begin{align}\n",
    "&\\sum_{n=0}^\\infty \\frac{n!^2}{(2n)!}\\frac{(4y)^{2n + 2m}}{2n+2m+1} = (4y)^{2m}\\sum_{k=1}^m\\left[ \\left(-\\frac{k}{2y^{2}(2k - 1)^2} - \\frac{1}{2k - 1}\\frac{\\arcsin(2y)}{2y\\sqrt{(1 - 4y^{2})}}\\right) \\prod_{j=k+1}^m \\frac{2j}{4y^{2}(2j - 1)} \\right] + (4y)^{2m}\\frac{\\arcsin(2y)}{2y\\sqrt{1 - 4y^{2}}}\\prod_{k=1}^m \\frac{2k}{4y^{2}(2k - 1)} \\\\\n",
    "&= \\sum_{k=1}^m\\left[ \\left(-\\frac{2k(4y)^{2(m-1)}}{(2k - 1)^2} - (4y)^{2k}\\frac{1}{2k - 1}\\frac{\\arcsin(2y)}{2y\\sqrt{(1 - 4y^{2})}}\\right) \\prod_{j=k+1}^m \\frac{8j}{(2j - 1)} \\right] + \\frac{\\arcsin(2y)}{2y\\sqrt{1 - 4y^{2}}}\\prod_{k=1}^m \\frac{8k}{(2k - 1)}\n",
    "\\end{align}\n",
    "Now integrate both sides of this expression with respect to $y$, then LHS becomes:\n",
    "\\begin{equation}\n",
    "LHS = \\sum_{n=0}^\\infty \\frac{n!^2}{(2n)!}\\frac{(4y)^{2n + 2m + 1}}{(2n+2m+1)^{2}}\n",
    "\\end{equation}\n",
    "And to evaluate the right hand side we have to do integration by parts and use the following identities (where $s \\in \\mathbb{N}$):\n",
    "\\begin{align}\n",
    "\\int \\frac{y^{2s + 1}}{\\sqrt{1 - 4y^2}} &= -\\frac{\\sqrt{1 - 4y^{2}}}{2^{2s + 1}}\\sum_{k=0}^{s}\\frac{(2n)!}{n!^{2}}(-1)^{k}\\frac{(1 - 4y^{2})^{k}}{2k + 1} \\\\\n",
    "\\frac{d}{dy}\\arcsin(2y) &= \\frac{2}{\\sqrt{1 - 4y^2}}\n",
    "\\end{align}\n",
    "Now we can evaluate the integral $\\int \\frac{y^{2k - 1}\\arcsin(2y)}{\\sqrt{1 - 4y^{2}}}dy$ using integration by parts:\n",
    "\\begin{align*}\n",
    "    &\\sum_{n=0}^{\\infty} \\frac{n!^2}{(2n)!}\\frac{(4y)^{2n + 2m + 1}}{(2n + 2m + 1)^2} = \\sum_{k=1}^{m}\\Biggr[\\Biggr(\\frac{-k(4y)^{2k-1}}{(2k-1)^{3}} - \\frac{4^{2k-1}}{2k-1}\\Biggr(-\\arcsin(2y)\\frac{(k-1)!^2}{4(2k - 1)!}\\sqrt{1 - 4y^{2}} \\\\\n",
    "    &\\cdot \\sum_{j=0}^{k-1}\\frac{(2j)!}{j!^{2}}y^{2j} + \\frac{(k-1)!^{2}}{2(2k - 1)!} \\sum_{j=0}^{k-1}\\frac{(2j)!}{j!^{2}}\\frac{y^{2j+1}}{2j + 1} \\Biggl)\\Biggl) \\cdot 8^{m - k + 1} \\frac{m!^2}{k!^2}\\frac{(2k)!}{(2m)!}2^{m-k}\\Biggl] + \\frac{16^m m!^2}{(2m)!} f^\\prime_{m=0}\n",
    "\\end{align*}\n",
    "Now Divide both sides by $(4y)^{2m+1}$ and replace $y$ with $\\frac{\\sqrt{x}}{2}$:\n",
    "\\begin{align}\n",
    "    &\\sum_{n=0}^{\\infty} \\frac{n!^{2}}{(2n)!}\\frac{(4x)^{n}}{(2n + 2m + 1)^{2}} = \\sum_{k=1}^{m}\\Biggl[\\Biggl(\n",
    "    -\\frac{k4^{m+k}}{x^{m-k+1}(2k-1)^{3}} - \\frac{4^{2k-1}}{2k-1}\\Biggl(\\\\\n",
    "    &-\\arcsin(\\sqrt{x})\\frac{(k-1)!^{2}}{2(2k-1)!}\\sqrt{1 - x}\\sum_{j=0}^{k-1}\\frac{(2j)!}{j!^{2}}\\frac{x^{j-m-\\frac{1}{2}}}{4^{j-m}} \\\\ \n",
    "    &+ \\frac{(k-1)!^{2}}{2(2k-1)!}\\sum_{j=0}^{k-1}\\frac{(2j)!}{j!^{2}}\\frac{x^{j-m}}{4^{j-m}(2j + 1)}\\Biggr)\\Biggr) \\cdot 2 \\cdot 16^{-k} \\cdot \\left(\\frac{m!^{2}(2k)!}{k!^{2}(2m)!}\\right)\\Biggr] \\\\\n",
    "    &+ \\frac{4^{m}m!^{2}}{x^{m+\\frac{1}{2}}(2m)!} \\int_{0}^{\\frac{\\sqrt{x}}{2}}\\frac{\\arcsin(2t)}{t\\sqrt{1 - 4t^{2}}}\\mathrm{d}t\n",
    "\\end{align}\n",
    "Note - the integral above has a closed form, which can easily be calculated in e.g. maple or wolfram alpha. <br>\n",
    "<!-- Note 2 - sympy doesn't evaluate the dilogarithm correctly for certain values - see: https://github.com/sympy/sympy/issues/13850. Therefore, the maple file `2n2m1_final.mw` should be used for evaluation of series of this type. -->\n",
    "Note - if you convert the output from the function below to maple code by using `sp.maple_code`, you should replace `polar_exp` by `exp`, then you should get the correct result.\n",
    "<!--  -->\n",
    "Note - `polylog(2,z) = dilog(1-z)` in maple!"
   ]
  },
  {
   "cell_type": "code",
   "execution_count": 24,
   "metadata": {},
   "outputs": [],
   "source": [
    "def series_3(x,m):\n",
    "    k,j = sp.symbols(\"k j\")\n",
    "    \n",
    "    expr1 = -k * 4**(m+k)/(x**(m - k + 1) * (2*k-1)**3)\n",
    "    \n",
    "    expr2 = -sp.asin(sp.sqrt(x)) * sp.factorial(k-1)**2 / (2 * sp.factorial(2*k-1)) * sp.sqrt(1 - x) * sp.summation(sp.factorial(2*j)/sp.factorial(j)**2 * x**(j-m - sp.S(1)/2) / 4**(j-m), (j,0,k-1))\n",
    "    expr3 = sp.factorial(k-1)**2 / (2 * sp.factorial(2*k-1)) * sp.summation(sp.factorial(2*j)/sp.factorial(j)**2 * x**(j-m) / (4**(j-m) * (2*j+1)), (j,0,k-1))\n",
    "    \n",
    "    expr4 = -4**(2*k-1)/(2*k-1) * (expr2 + expr3)\n",
    "    expr5 = 2*16**(-k) * (sp.factorial(m)**2 * sp.factorial(2*k) / (sp.factorial(k)**2 * sp.factorial(2*m)))\n",
    "    expr6 = 4**m * sp.factorial(m)**2 / (x**m * sp.sqrt(x) * sp.factorial(2*m))\n",
    "    expr7 = sp.I * sp.pi**2 / 4 + sp.asin(sp.sqrt(x)) * sp.ln(1 - sp.I * sp.sqrt(x) - sp.sqrt(1 - x)) - sp.asin(sp.sqrt(x)) * sp.ln(1 + sp.I * sp.sqrt(x) + sp.sqrt(1 - x)) + sp.I*sp.polylog(2, 1 - (1 + sp.I*sp.sqrt(x) + sp.sqrt(1-x))) - sp.I * sp.polylog(2, 1 - (1 - sp.I*sp.sqrt(x) - sp.sqrt(1 - x)))\n",
    "    \n",
    "    return sp.simplify(sp.summation((expr1 + expr4) * expr5, (k,1,m))) + expr6 * expr7"
   ]
  },
  {
   "cell_type": "code",
   "execution_count": 25,
   "metadata": {},
   "outputs": [
    {
     "data": {
      "text/latex": [
       "$\\displaystyle -2 - \\frac{\\pi}{2} - e^{0} + \\frac{\\pi e^{0}}{2} - \\pi \\left(\\log{\\left(\\sqrt{2} \\right)} + \\frac{i \\pi}{4}\\right) + \\pi \\left(\\log{\\left(\\sqrt{2} \\right)} - \\frac{i \\pi}{4}\\right) + 2 i \\operatorname{Li}_{2}\\left(- i\\right) - 2 i \\operatorname{Li}_{2}\\left(i\\right) + \\frac{i \\pi^{2}}{2}$"
      ],
      "text/plain": [
       "-2 - pi/2 - exp_polar(0) + pi*exp_polar(0)/2 - pi*(log(sqrt(2)) + I*pi/4) + pi*(log(sqrt(2)) - I*pi/4) + 2*I*polylog(2, -I) - 2*I*polylog(2, I) + I*pi**2/2"
      ]
     },
     "execution_count": 25,
     "metadata": {},
     "output_type": "execute_result"
    }
   ],
   "source": [
    "series_3(1,1)"
   ]
  },
  {
   "cell_type": "code",
   "execution_count": 26,
   "metadata": {
    "scrolled": true
   },
   "outputs": [
    {
     "data": {
      "text/plain": [
       "'-2 - 1/2*Pi - exp_polar(0) + (1/2)*Pi*exp_polar(0) - Pi*(ln(sqrt(2)) + (1/4)*I*Pi) + Pi*(ln(sqrt(2)) - 1/4*I*Pi) + 2*I*polylog(2, -I) - 2*I*polylog(2, I) + (1/2)*I*Pi^2'"
      ]
     },
     "execution_count": 26,
     "metadata": {},
     "output_type": "execute_result"
    }
   ],
   "source": [
    "sp.maple_code(series_3(1,1)) # Maple says - correct"
   ]
  },
  {
   "cell_type": "code",
   "execution_count": 27,
   "metadata": {},
   "outputs": [
    {
     "data": {
      "text/latex": [
       "$\\displaystyle - \\frac{628}{81} + \\frac{236 \\sqrt{3} \\pi}{729} + \\frac{256 \\sqrt{3} \\left(- \\frac{\\pi \\left(\\log{\\left(\\sqrt{3} \\right)} + \\frac{i \\pi}{6}\\right)}{3} + i \\operatorname{Li}_{2}\\left(- \\frac{1}{2} - \\frac{\\sqrt{3} i}{2}\\right) - i \\operatorname{Li}_{2}\\left(\\frac{1}{2} + \\frac{\\sqrt{3} i}{2}\\right) + \\frac{5 i \\pi^{2}}{36}\\right)}{81}$"
      ],
      "text/plain": [
       "-628/81 + 236*sqrt(3)*pi/729 + 256*sqrt(3)*(-pi*(log(sqrt(3)) + I*pi/6)/3 + I*polylog(2, -1/2 - sqrt(3)*I/2) - I*polylog(2, 1/2 + sqrt(3)*I/2) + 5*I*pi**2/36)/81"
      ]
     },
     "execution_count": 27,
     "metadata": {},
     "output_type": "execute_result"
    }
   ],
   "source": [
    "series_3(sp.S(3)/4,2)"
   ]
  },
  {
   "cell_type": "code",
   "execution_count": 29,
   "metadata": {},
   "outputs": [
    {
     "data": {
      "text/plain": [
       "(0.11944562610011218-1.2685531466470017e-25j)"
      ]
     },
     "execution_count": 29,
     "metadata": {},
     "output_type": "execute_result"
    }
   ],
   "source": [
    "complex(series_3(sp.S(3)/4,2))"
   ]
  },
  {
   "cell_type": "code",
   "execution_count": 28,
   "metadata": {},
   "outputs": [
    {
     "data": {
      "text/plain": [
       "'-628/81 + (236/729)*sqrt(3)*Pi + (256/81)*sqrt(3)*(-1/3*Pi*(ln(sqrt(3)) + (1/6)*I*Pi) + I*polylog(2, -1/2 - 1/2*sqrt(3)*I) - I*polylog(2, 1/2 + (1/2)*sqrt(3)*I) + (5/36)*I*Pi^2)'"
      ]
     },
     "execution_count": 28,
     "metadata": {},
     "output_type": "execute_result"
    }
   ],
   "source": [
    "sp.maple_code(series_3(sp.S(3)/4,2)) # Maple says correct"
   ]
  },
  {
   "cell_type": "markdown",
   "metadata": {},
   "source": [
    "### Extra result\n",
    "If we take $x = 1$ and $\\lim_{m \\to \\infty}$ on both sides of the closed form expression for $\\sum_{n=0}^\\infty \\frac{n!^2}{(2n)!}\\frac{(4x)^n}{\\left(2n + 2m + 1\\right)^{2}}$ we found above, we arrive at a novel series for calculating Catalan's constant.\n",
    "> Set $x = 1$ and rearrange\n",
    "<br>\n",
    "\n",
    "\\begin{align}\n",
    "    &\\frac{(2m)!}{4^{m} m!^{2}} \\sum_{n=0}^{\\infty}\\frac{n!^2}{(2n)!}\\frac{4^n}{(2n + 2m + 1)^2} = \\Biggl(\\sum_{k=1}^{m}\\Biggl[\\Biggl(-\\frac{2k4^{k}}{(2k-1)^{3}} \\\\\n",
    "    &-\\frac{4^{2k-1}}{2k - 1}\\frac{(k-1)!^{2}}{(2k - 1)!}\\sum_{j=0}^{k - 1}\\frac{(2j)!}{j!^{2}}\\frac{1}{4^{j} (2j + 1)}\\Biggr) \\cdot 16^{-k} \\cdot \\frac{(2k)!}{k!^{2}}\\Biggr] + 2G\n",
    "\\end{align}\n",
    "> Take $\\lim_{m \\to \\infty}$ on both sides\n",
    "<br>\n",
    "\n",
    "\\begin{equation}\n",
    "    2G = \\sum_{k=1}^{\\infty}\\left(\\frac{2k (2k)!}{4^{k} (2k-1)^{3} k!^{2}} + \\frac{1}{2(2k-1)k}\\sum_{j=0}^{k-1}\\frac{(2j)!}{j!^{2}}\\frac{1}{4^{j}(2j+1)}\\right)\n",
    "\\end{equation}\n",
    "\n",
    "This series converges very slowly."
   ]
  },
  {
   "cell_type": "code",
   "execution_count": null,
   "metadata": {},
   "outputs": [],
   "source": []
  },
  {
   "cell_type": "code",
   "execution_count": null,
   "metadata": {},
   "outputs": [],
   "source": []
  },
  {
   "cell_type": "code",
   "execution_count": null,
   "metadata": {},
   "outputs": [],
   "source": []
  },
  {
   "cell_type": "code",
   "execution_count": null,
   "metadata": {},
   "outputs": [],
   "source": []
  },
  {
   "cell_type": "code",
   "execution_count": null,
   "metadata": {},
   "outputs": [],
   "source": []
  }
 ],
 "metadata": {
  "kernelspec": {
   "display_name": "Python 3",
   "language": "python",
   "name": "python3"
  },
  "language_info": {
   "codemirror_mode": {
    "name": "ipython",
    "version": 3
   },
   "file_extension": ".py",
   "mimetype": "text/x-python",
   "name": "python",
   "nbconvert_exporter": "python",
   "pygments_lexer": "ipython3",
   "version": "3.8.1"
  }
 },
 "nbformat": 4,
 "nbformat_minor": 4
}
